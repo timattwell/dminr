{
 "metadata": {
  "language_info": {
   "codemirror_mode": {
    "name": "ipython",
    "version": 3
   },
   "file_extension": ".py",
   "mimetype": "text/x-python",
   "name": "python",
   "nbconvert_exporter": "python",
   "pygments_lexer": "ipython3",
   "version": 3
  },
  "orig_nbformat": 2
 },
 "nbformat": 4,
 "nbformat_minor": 2,
 "cells": [
  {
   "source": [
    "\n",
    "# Things to do:\n",
    "\n",
    "- Train - \n",
    "    - Preprocessing -\n",
    "        - Process Text\n",
    "            - Remove special tokens \n",
    "            - Remove extra spaces/space in front\n",
    "            - Remove double punctuation\n",
    "            - Remove space in front of punctuation\n",
    "            - Remove new line marker\n",
    "        - Process Textlines\n",
    "        - Tag\n",
    "        - Tokenise\n",
    "        - mask(?)\n",
    "        - Split\n",
    "    - Model -\n",
    "        - Build from pretrained\n",
    "        - Sent to GPU\n",
    "        - Train\n",
    "        - Evaluate\n",
    "    \n",
    "- Run - \n",
    "\n",
    "- Utility -\n",
    "    - Pickle load/save\n",
    "\n"
   ],
   "cell_type": "markdown",
   "metadata": {}
  },
  {
   "cell_type": "code",
   "execution_count": null,
   "metadata": {},
   "outputs": [],
   "source": []
  }
 ]
}